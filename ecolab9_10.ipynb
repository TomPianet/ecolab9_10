{
  "nbformat": 4,
  "nbformat_minor": 0,
  "metadata": {
    "colab": {
      "provenance": [],
      "authorship_tag": "ABX9TyO5aPF4up3Fsb8K9yMDxzCN",
      "include_colab_link": true
    },
    "kernelspec": {
      "name": "python3",
      "display_name": "Python 3"
    },
    "language_info": {
      "name": "python"
    }
  },
  "cells": [
    {
      "cell_type": "markdown",
      "metadata": {
        "id": "view-in-github",
        "colab_type": "text"
      },
      "source": [
        "<a href=\"https://colab.research.google.com/github/TomPianet/ecolab9_10/blob/main/ecolab9_10.ipynb\" target=\"_parent\"><img src=\"https://colab.research.google.com/assets/colab-badge.svg\" alt=\"Open In Colab\"/></a>"
      ]
    },
    {
      "cell_type": "code",
      "execution_count": null,
      "metadata": {
        "colab": {
          "base_uri": "https://localhost:8080/",
          "height": 201
        },
        "id": "KlyLlZ4Rh0jC",
        "outputId": "f901cc12-3fef-44f3-b08c-76f518df092d"
      },
      "outputs": [
        {
          "output_type": "error",
          "ename": "NameError",
          "evalue": "name 'pd' is not defined",
          "traceback": [
            "\u001b[0;31m---------------------------------------------------------------------------\u001b[0m",
            "\u001b[0;31mNameError\u001b[0m                                 Traceback (most recent call last)",
            "\u001b[0;32m<ipython-input-1-5a700c95fb5b>\u001b[0m in \u001b[0;36m<cell line: 7>\u001b[0;34m()\u001b[0m\n\u001b[1;32m      5\u001b[0m \u001b[0;34m\u001b[0m\u001b[0m\n\u001b[1;32m      6\u001b[0m \u001b[0;34m\u001b[0m\u001b[0m\n\u001b[0;32m----> 7\u001b[0;31m \u001b[0mdates\u001b[0m \u001b[0;34m=\u001b[0m \u001b[0mpd\u001b[0m\u001b[0;34m.\u001b[0m\u001b[0mdate_range\u001b[0m\u001b[0;34m(\u001b[0m\u001b[0;34m\"20230309\"\u001b[0m\u001b[0;34m,\u001b[0m \u001b[0mperiods\u001b[0m\u001b[0;34m=\u001b[0m\u001b[0;36m6\u001b[0m\u001b[0;34m,\u001b[0m \u001b[0mfreq\u001b[0m\u001b[0;34m=\u001b[0m\u001b[0;34m\"MS\"\u001b[0m\u001b[0;34m)\u001b[0m\u001b[0;34m\u001b[0m\u001b[0;34m\u001b[0m\u001b[0m\n\u001b[0m\u001b[1;32m      8\u001b[0m \u001b[0;34m\u001b[0m\u001b[0m\n\u001b[1;32m      9\u001b[0m \u001b[0mdf\u001b[0m \u001b[0;34m=\u001b[0m \u001b[0mpd\u001b[0m\u001b[0;34m.\u001b[0m\u001b[0mDataFrame\u001b[0m\u001b[0;34m(\u001b[0m\u001b[0mnp\u001b[0m\u001b[0;34m.\u001b[0m\u001b[0mrandom\u001b[0m\u001b[0;34m.\u001b[0m\u001b[0mrandn\u001b[0m\u001b[0;34m(\u001b[0m\u001b[0;36m6\u001b[0m\u001b[0;34m,\u001b[0m \u001b[0;36m4\u001b[0m\u001b[0;34m)\u001b[0m\u001b[0;34m,\u001b[0m \u001b[0mindex\u001b[0m\u001b[0;34m=\u001b[0m\u001b[0mdates\u001b[0m\u001b[0;34m,\u001b[0m \u001b[0mcolumns\u001b[0m\u001b[0;34m=\u001b[0m\u001b[0mlist\u001b[0m\u001b[0;34m(\u001b[0m\u001b[0;34m\"ABCD\"\u001b[0m\u001b[0;34m)\u001b[0m\u001b[0;34m)\u001b[0m\u001b[0;34m\u001b[0m\u001b[0;34m\u001b[0m\u001b[0m\n",
            "\u001b[0;31mNameError\u001b[0m: name 'pd' is not defined"
          ]
        }
      ],
      "source": [
        "from IPython.display import HTML\n",
        "\n",
        "# Use the direct URL to the GIF\n",
        "HTML('<img src=\"https://media1.tenor.com/m/xrUe4KFY0dsAAAAC/brother-ew-ew.gif\" width=\"800\">')\n",
        "\n",
        "\n",
        "dates = pd.date_range(\"20230309\", periods=6, freq=\"MS\")\n",
        "\n",
        "df = pd.DataFrame(np.random.randn(6, 4), index=dates, columns=list(\"ABCD\"))\n",
        "# df = pd.DataFrame(np.random.randint(1, 100, (6, 4)), index=dates, columns=list(\"ABCD\"))\n",
        "\n",
        "df\n",
        "\n",
        "# df.T.index\n",
        "\n",
        "\n",
        "df2 = pd.DataFrame(\n",
        "    {\n",
        "        \"A\": 1.0,\n",
        "        \"B\": pd.Timestamp(\"20130102\"),\n",
        "        \"C\": pd.Series(1, index=list(range(4)), dtype=\"float32\"),\n",
        "        \"D\": np.array([3] * 4, dtype=\"int32\"),\n",
        "        \"E\": pd.Categorical([\"test\", \"train\", \"test\", \"train\"]),\n",
        "        \"F\": \"foo\"\n",
        "    }\n",
        ")\n",
        "df2\n",
        "\n",
        "\n",
        "\n",
        "print(df.index)\n",
        "print(\"-----\")\n",
        "df.describe()\n",
        "\n",
        "\n",
        "print(df.T)\n",
        "\n",
        "print(df.sort_values(by=\"B\", ascending=False))\n",
        "print(df)\n",
        "\n",
        "print(df)\n",
        "print(df[\"A\"]) # df.A dot notation\n",
        "print(\"----\")\n",
        "print(type(df.A))\n",
        "print(df.A.values)\n",
        "\n",
        "\n",
        "# slice\n",
        "df[1:3][\"A\"]\n",
        "\n",
        "\n",
        "# selection withb loc (by value)\n",
        "\n",
        "dates[1] # this is the index for the second row\n",
        "print(df)\n",
        "print(\"-----\")\n",
        "print(df.loc[dates[1]])\n",
        "\n",
        "\n",
        "print(df)\n",
        "print(\"----\")\n",
        "print(df.iloc[1])\n",
        "print(\"----\")\n",
        "print(df.iloc[1:3, 1:2])\n",
        "print(\"----\")\n",
        "print(df.iloc[[0,2,4], [1,3]])\n",
        "\n",
        "\n",
        "df[\"E\"] = [\"car\", \"toy\"] * 2 + [\"ship\"]\n",
        "df[\"James\"] = [7] * 5\n",
        "df[\"James\"] = 11\n",
        "print(df)\n",
        "\n",
        "dates = pd.date_range(\"20240329\", periods=6, freq=\"D\")\n",
        "\n",
        "# df = pd.DataFrame(np.random.randn(60000, 4), index=dates, columns=list(\"ABCD\"))\n",
        "df = pd.DataFrame(np.random.randint(1, 100, (6, 4)), index=dates, columns=list(\"ABCD\"))\n",
        "\n",
        "# df\n",
        "\n",
        "df.index\n",
        "\n",
        "\n",
        "\n",
        "# @title A\n",
        "\n",
        "from matplotlib import pyplot as plt\n",
        "df['A'].plot(kind='hist', bins=99, title='A')\n",
        "plt.gca().spines[['top', 'right',]].set_visible(False)\n",
        "\n",
        "\n",
        "df2 = pd.DataFrame(\n",
        "    {\n",
        "        \"A\": 1.0,\n",
        "        \"B\": pd.Timestamp(\"20130102\"),\n",
        "        \"C\": pd.Series(1, index=list(range(4)), dtype=\"float32\"),\n",
        "        \"D\": np.array([3] * 4, dtype=\"int32\"),\n",
        "        \"E\": pd.Categorical([\"test\", \"train\", \"test\", \"train\"]),\n",
        "        \"F\": \"foo\"\n",
        "    }\n",
        ")\n",
        "df2\n",
        "\n"
      ]
    }
  ]
}